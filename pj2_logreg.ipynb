{
 "cells": [
  {
   "cell_type": "markdown",
   "metadata": {},
   "source": [
    "### Project 2"
   ]
  },
  {
   "cell_type": "code",
   "execution_count": 2,
   "metadata": {},
   "outputs": [],
   "source": [
    "import pandas as pd\n",
    "import numpy as np"
   ]
  },
  {
   "cell_type": "code",
   "execution_count": 3,
   "metadata": {},
   "outputs": [],
   "source": [
    "import matplotlib.pyplot as plt"
   ]
  },
  {
   "cell_type": "code",
   "execution_count": 4,
   "metadata": {},
   "outputs": [],
   "source": [
    "nanDict = {}\n",
    "df = pd.read_excel('creditcard_data.xls', header=1, skiprows=0, index_col=0, na_values=nanDict)\n",
    "df.rename(index=str, columns={\"default payment next month\": \"defaultPaymentNextMonth\"}, inplace=True)# Features and targets \n",
    "\n",
    "df = df.drop(df[(df.BILL_AMT1 == 0) &\n",
    "                (df.BILL_AMT2 == 0) &\n",
    "                (df.BILL_AMT3 == 0) &\n",
    "                (df.BILL_AMT4 == 0) &\n",
    "                (df.BILL_AMT5 == 0) &\n",
    "                (df.BILL_AMT6 == 0)].index)\n",
    "\n",
    "df = df.drop(df[(df.PAY_AMT1 == 0) &\n",
    "                (df.PAY_AMT2 == 0) &\n",
    "                (df.PAY_AMT3 == 0) &\n",
    "                (df.PAY_AMT4 == 0) &\n",
    "                (df.PAY_AMT5 == 0) &\n",
    "                (df.PAY_AMT6 == 0)].index)\n",
    "\n",
    "X = df.loc[:, df.columns != 'defaultPaymentNextMonth'].values\n",
    "y = df.loc[:, df.columns == 'defaultPaymentNextMonth'].values"
   ]
  },
  {
   "cell_type": "code",
   "execution_count": 5,
   "metadata": {},
   "outputs": [],
   "source": [
    "from sklearn.preprocessing import OneHotEncoder\n",
    "from sklearn.compose import ColumnTransformer\n",
    "\n",
    "onehotencoder = OneHotEncoder(categories = \"auto\")\n",
    "\n",
    "X = ColumnTransformer(\n",
    "    #[(\"\", onehotencoder, [3],)], \n",
    "    [(\"\", onehotencoder, [1, 2, 3, 4]),],\n",
    "    remainder=\"passthrough\"\n",
    ").fit_transform(X)"
   ]
  },
  {
   "cell_type": "code",
   "execution_count": 104,
   "metadata": {},
   "outputs": [],
   "source": [
    "from sklearn.model_selection import train_test_split\n",
    "\n",
    "X_train, X_test, y_train, y_test = train_test_split(X, y, train_size = 0.5, test_size = 1-0.5)"
   ]
  },
  {
   "cell_type": "code",
   "execution_count": 105,
   "metadata": {},
   "outputs": [],
   "source": [
    "from sklearn.preprocessing import StandardScaler\n",
    "\n",
    "sc = StandardScaler()#(with_mean = False)\n",
    "X_train = sc.fit_transform(X_train.toarray(), y_train)\n",
    "X_test = sc.transform(X_test.toarray())\n",
    "\n",
    "# One-hot's of the target vector\n",
    "#Y_train_onehot, Y_test_onehot = onehotencoder.fit_transform(y_train), onehotencoder.fit_transform(y_test)"
   ]
  },
  {
   "cell_type": "code",
   "execution_count": 19,
   "metadata": {},
   "outputs": [
    {
     "name": "stdout",
     "output_type": "stream",
     "text": [
      "0.21314524335895008\n",
      "0.78685475664105\n"
     ]
    }
   ],
   "source": [
    "total = y.shape[0]\n",
    "num_ones = np.count_nonzero(y)\n",
    "num_zeros = total - num_ones\n",
    "\n",
    "assert (num_ones + num_zeros == total)\n",
    "\n",
    "frac_ones = num_ones / total\n",
    "print(frac_ones)\n",
    "frac_zeros = num_zeros / total\n",
    "print(frac_zeros)"
   ]
  },
  {
   "cell_type": "code",
   "execution_count": 29,
   "metadata": {},
   "outputs": [
    {
     "data": {
      "image/png": "[encoded data removed]",
      "text/plain": [
       "<Figure size 432x288 with 1 Axes>"
      ]
     },
     "metadata": {},
     "output_type": "display_data"
    }
   ],
   "source": [
    "import matplotlib.pyplot as plt\n",
    "\n",
    "plt.hist(y)\n",
    "plt.ylim(0, 26000)\n",
    "plt.title('Number of zeros and ones (target data)')\n",
    "plt.text(0, 23000, '79 %')\n",
    "plt.text(0.9, 6500, '21 %')\n",
    "plt.show()"
   ]
  },
  {
   "cell_type": "code",
   "execution_count": 8,
   "metadata": {},
   "outputs": [],
   "source": [
    "def sigmoid(x):\n",
    "\n",
    "    sigmoid = 1 / (1 + np.exp(-x))\n",
    "    \n",
    "    return sigmoid"
   ]
  },
  {
   "cell_type": "code",
   "execution_count": 9,
   "metadata": {},
   "outputs": [],
   "source": [
    "from sklearn.metrics import accuracy_score, f1_score, confusion_matrix, r2_score, mean_squared_error, log_loss"
   ]
  },
  {
   "cell_type": "code",
   "execution_count": 106,
   "metadata": {},
   "outputs": [],
   "source": [
    "# LOGISTIC REGRESSION\n",
    "\n",
    "learning_rate = 0.001\n",
    "beta = np.random.randn(X_train.shape[1], 1)\n",
    "num_iter = 1000\n",
    "\n",
    "accuracy = list()\n",
    "f1 = list()\n",
    "accuracy_test = list()\n",
    "f1_test = list()\n",
    "\n",
    "\n",
    "for iteration in range(num_iter):\n",
    "    #sigmoid = 1 / (1 + np.exp(- (X_train @ beta)))\n",
    "    x = X_train @ beta\n",
    "    grad = (np.transpose(X_train) @ (sigmoid(x) - y_train))\n",
    "\n",
    "    beta -= learning_rate*grad\n",
    "\n",
    "    #cost_function = - ( np.sum(np.transpose(y_train) @ np.log(sigmoid(x)) - np.transpose(1 - y_train) @ np.log(sigmoid(-x))) )    \n",
    "    #print(cost_function)\n",
    "\n",
    "    # ACCURACY (training data)\n",
    "    y_pred = sigmoid(X_train @ beta)\n",
    "    y_pred[y_pred >= 0.5] = 1\n",
    "    y_pred[y_pred < 0.5] = 0\n",
    "    \n",
    "    \n",
    "    accuracy.append(accuracy_score(y_train, y_pred))\n",
    "    f1.append(f1_score(y_train, y_pred))\n",
    "    \n",
    "    # ACCURACY (test data)\n",
    "    y_pred_test = sigmoid(X_test @ beta)\n",
    "    y_pred_test[y_pred_test >= 0.5] = 1\n",
    "    y_pred_test[y_pred_test < 0.5] = 0\n",
    "    \n",
    "    \n",
    "    accuracy_test.append(accuracy_score(y_test, y_pred_test))\n",
    "    f1_test.append(f1_score(y_test, y_pred_test))\n",
    "    "
   ]
  },
  {
   "cell_type": "code",
   "execution_count": 107,
   "metadata": {},
   "outputs": [
    {
     "data": {
      "text/plain": [
       "array([[0.49003369, 0.29814711],\n",
       "       [0.09229366, 0.11952555]])"
      ]
     },
     "execution_count": 107,
     "metadata": {},
     "output_type": "execute_result"
    }
   ],
   "source": [
    "confusion_matrix(y_train, y_pred)/np.sum(confusion_matrix(y_train, y_pred))"
   ]
  },
  {
   "cell_type": "code",
   "execution_count": 11,
   "metadata": {},
   "outputs": [],
   "source": [
    "y_pred_test = sigmoid(X_test @ beta)\n",
    "\n",
    "y_pred_test[y_pred_test >= 0.5] = 1\n",
    "y_pred_test[y_pred_test < 0.5] = 0\n",
    "\n",
    "#np.mean(y_pred_test == y_test)"
   ]
  },
  {
   "cell_type": "code",
   "execution_count": 102,
   "metadata": {},
   "outputs": [
    {
     "name": "stdout",
     "output_type": "stream",
     "text": [
      "Acc 0.5171590988841323\n",
      "F1 0.400278940027894\n",
      "Conf\n",
      " [[5073 6168]\n",
      " [ 712 2296]]\n",
      "R2 -1.8992792342621145\n",
      "MSE 0.4828409011158678\n"
     ]
    }
   ],
   "source": [
    "print('Acc', accuracy_score(y_test, y_pred_test))\n",
    "print('F1', f1_score(y_test, y_pred_test))\n",
    "print('Conf\\n', confusion_matrix(y_test, y_pred_test)) # /y_test.shape[0]\n",
    "print('R2', r2_score(y_test, y_pred_test))\n",
    "print('MSE', mean_squared_error(y_test, y_pred_test))"
   ]
  },
  {
   "cell_type": "code",
   "execution_count": 60,
   "metadata": {},
   "outputs": [
    {
     "name": "stderr",
     "output_type": "stream",
     "text": [
      "C:\\Users\\Mina\\Anaconda3\\lib\\site-packages\\sklearn\\linear_model\\logistic.py:432: FutureWarning: Default solver will be changed to 'lbfgs' in 0.22. Specify a solver to silence this warning.\n",
      "  FutureWarning)\n"
     ]
    }
   ],
   "source": [
    "from sklearn.linear_model import LogisticRegression\n",
    "clf = LogisticRegression(max_iter=500, class_weight='balanced')\n",
    "clf.fit(X_train,np.ravel(y_train))\n",
    "y_pred_sk = clf.predict(X_test)"
   ]
  },
  {
   "cell_type": "code",
   "execution_count": 61,
   "metadata": {},
   "outputs": [
    {
     "name": "stdout",
     "output_type": "stream",
     "text": [
      "0.6979437153484455\n",
      "0.4758889430102289\n",
      "[[7991 3178]\n",
      " [1126 1954]]\n"
     ]
    }
   ],
   "source": [
    "print(accuracy_score(y_test, y_pred_sk))\n",
    "print(f1_score(y_test, y_pred_sk))\n",
    "print(confusion_matrix(y_test, y_pred_sk))"
   ]
  },
  {
   "cell_type": "code",
   "execution_count": 86,
   "metadata": {},
   "outputs": [
    {
     "data": {
      "text/plain": [
       "0.7909180235822572"
      ]
     },
     "execution_count": 86,
     "metadata": {},
     "output_type": "execute_result"
    }
   ],
   "source": [
    "y_pred = sigmoid(X_train @ beta)\n",
    "\n",
    "y_pred[y_pred >= 0.5] = 1\n",
    "y_pred[y_pred < 0.5] = 0\n",
    "\n",
    "np.mean(y_pred == y_train)"
   ]
  },
  {
   "cell_type": "code",
   "execution_count": 109,
   "metadata": {},
   "outputs": [],
   "source": [
    "import seaborn as sb"
   ]
  },
  {
   "cell_type": "code",
   "execution_count": 110,
   "metadata": {},
   "outputs": [
    {
     "data": {
      "image/png": "[encoded data removed]",
      "text/plain": [
       "<Figure size 432x288 with 2 Axes>"
      ]
     },
     "metadata": {},
     "output_type": "display_data"
    }
   ],
   "source": [
    "conf_mat_own = confusion_matrix(y_test, y_pred_test)\n",
    "fig = sb.heatmap(conf_mat_own/np.sum(conf_mat_own), annot=True, cmap=plt.cm.YlGn, yticklabels=['0', '1'])\n",
    "fig.set_yticks([0.5, 1.5])\n",
    "fig.set_xticks([0.5, 1.5])\n",
    "fig.set(xlabel='Predicted label', ylabel='True label', title='Neural network, more training data')\n",
    "plt.show()"
   ]
  },
  {
   "cell_type": "code",
   "execution_count": 112,
   "metadata": {},
   "outputs": [
    {
     "data": {
      "text/plain": [
       "0.3861884009386523"
      ]
     },
     "execution_count": 112,
     "metadata": {},
     "output_type": "execute_result"
    }
   ],
   "source": [
    "f1_score(y_test, y_pred_test)"
   ]
  }
 ],
 "metadata": {
  "anaconda-cloud": {},
  "kernelspec": {
   "display_name": "Python [default]",
   "language": "python",
   "name": "python3"
  },
  "language_info": {
   "codemirror_mode": {
    "name": "ipython",
    "version": 3
   },
   "file_extension": ".py",
   "mimetype": "text/x-python",
   "name": "python",
   "nbconvert_exporter": "python",
   "pygments_lexer": "ipython3",
   "version": "3.5.6"
  }
 },
 "nbformat": 4,
 "nbformat_minor": 1
}
